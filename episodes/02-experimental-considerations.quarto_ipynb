{
  "cells": [
    {
      "cell_type": "markdown",
      "metadata": {},
      "source": [
        "---\n",
        "title: \"Before the experiment\"\n",
        "---\n",
        "\n",
        "\n",
        "\n",
        "\n",
        "Before diving into the bioinformatics of RNA-seq experiments, it's good to take a step back and think about the experimental design and refresh one's statistical knowledge. After all, an RNA-seq experiment is also an experiment like any other.\n",
        "\n",
        "```{.R}\n",
        "1+1\n",
        "```\n",
        "\n",
        "\n",
        "\n",
        "\n",
        "```{bash}\n",
        "ls\n",
        "```"
      ],
      "id": "b7a79057"
    }
  ],
  "metadata": {
    "kernelspec": {
      "display_name": "Python 3",
      "language": "python",
      "name": "python3"
    }
  },
  "nbformat": 4,
  "nbformat_minor": 5
}